{
 "cells": [
  {
   "cell_type": "code",
   "execution_count": 9,
   "id": "810b7645",
   "metadata": {},
   "outputs": [],
   "source": [
    "import numpy as np\n",
    "import pandas as pd\n",
    "import seaborn as sns\n",
    "import matplotlib.pyplot as plt\n",
    "from scipy.stats import mannwhitneyu"
   ]
  },
  {
   "cell_type": "code",
   "execution_count": 35,
   "id": "5d6d6f34",
   "metadata": {},
   "outputs": [
    {
     "data": {
      "text/html": [
       "<div>\n",
       "<style scoped>\n",
       "    .dataframe tbody tr th:only-of-type {\n",
       "        vertical-align: middle;\n",
       "    }\n",
       "\n",
       "    .dataframe tbody tr th {\n",
       "        vertical-align: top;\n",
       "    }\n",
       "\n",
       "    .dataframe thead th {\n",
       "        text-align: right;\n",
       "    }\n",
       "</style>\n",
       "<table border=\"1\" class=\"dataframe\">\n",
       "  <thead>\n",
       "    <tr style=\"text-align: right;\">\n",
       "      <th></th>\n",
       "      <th>Unnamed: 0</th>\n",
       "      <th>Sample</th>\n",
       "      <th>Shannon_Index</th>\n",
       "      <th>Treatment</th>\n",
       "      <th>Bee</th>\n",
       "      <th>Day</th>\n",
       "      <th>Group</th>\n",
       "    </tr>\n",
       "  </thead>\n",
       "  <tbody>\n",
       "    <tr>\n",
       "      <th>0</th>\n",
       "      <td>1</td>\n",
       "      <td>T1_D3</td>\n",
       "      <td>0.936445</td>\n",
       "      <td>T</td>\n",
       "      <td>1</td>\n",
       "      <td>3</td>\n",
       "      <td>T3</td>\n",
       "    </tr>\n",
       "    <tr>\n",
       "      <th>1</th>\n",
       "      <td>2</td>\n",
       "      <td>T10_D3</td>\n",
       "      <td>0.806340</td>\n",
       "      <td>T</td>\n",
       "      <td>10</td>\n",
       "      <td>3</td>\n",
       "      <td>T3</td>\n",
       "    </tr>\n",
       "    <tr>\n",
       "      <th>2</th>\n",
       "      <td>3</td>\n",
       "      <td>T11_D3</td>\n",
       "      <td>0.974710</td>\n",
       "      <td>T</td>\n",
       "      <td>11</td>\n",
       "      <td>3</td>\n",
       "      <td>T3</td>\n",
       "    </tr>\n",
       "    <tr>\n",
       "      <th>3</th>\n",
       "      <td>4</td>\n",
       "      <td>T13_D3</td>\n",
       "      <td>0.641606</td>\n",
       "      <td>T</td>\n",
       "      <td>13</td>\n",
       "      <td>3</td>\n",
       "      <td>T3</td>\n",
       "    </tr>\n",
       "    <tr>\n",
       "      <th>4</th>\n",
       "      <td>5</td>\n",
       "      <td>T14_D3</td>\n",
       "      <td>1.442691</td>\n",
       "      <td>T</td>\n",
       "      <td>14</td>\n",
       "      <td>3</td>\n",
       "      <td>T3</td>\n",
       "    </tr>\n",
       "    <tr>\n",
       "      <th>...</th>\n",
       "      <td>...</td>\n",
       "      <td>...</td>\n",
       "      <td>...</td>\n",
       "      <td>...</td>\n",
       "      <td>...</td>\n",
       "      <td>...</td>\n",
       "      <td>...</td>\n",
       "    </tr>\n",
       "    <tr>\n",
       "      <th>109</th>\n",
       "      <td>110</td>\n",
       "      <td>C5_D3</td>\n",
       "      <td>1.399546</td>\n",
       "      <td>C</td>\n",
       "      <td>5</td>\n",
       "      <td>3</td>\n",
       "      <td>C3</td>\n",
       "    </tr>\n",
       "    <tr>\n",
       "      <th>110</th>\n",
       "      <td>111</td>\n",
       "      <td>C6_D3</td>\n",
       "      <td>1.260582</td>\n",
       "      <td>C</td>\n",
       "      <td>6</td>\n",
       "      <td>3</td>\n",
       "      <td>C3</td>\n",
       "    </tr>\n",
       "    <tr>\n",
       "      <th>111</th>\n",
       "      <td>112</td>\n",
       "      <td>C7_D3</td>\n",
       "      <td>1.407365</td>\n",
       "      <td>C</td>\n",
       "      <td>7</td>\n",
       "      <td>3</td>\n",
       "      <td>C3</td>\n",
       "    </tr>\n",
       "    <tr>\n",
       "      <th>112</th>\n",
       "      <td>113</td>\n",
       "      <td>C8_D3</td>\n",
       "      <td>1.299063</td>\n",
       "      <td>C</td>\n",
       "      <td>8</td>\n",
       "      <td>3</td>\n",
       "      <td>C3</td>\n",
       "    </tr>\n",
       "    <tr>\n",
       "      <th>113</th>\n",
       "      <td>114</td>\n",
       "      <td>C9_D3</td>\n",
       "      <td>1.578896</td>\n",
       "      <td>C</td>\n",
       "      <td>9</td>\n",
       "      <td>3</td>\n",
       "      <td>C3</td>\n",
       "    </tr>\n",
       "  </tbody>\n",
       "</table>\n",
       "<p>114 rows × 7 columns</p>\n",
       "</div>"
      ],
      "text/plain": [
       "     Unnamed: 0  Sample  Shannon_Index Treatment Bee Day Group\n",
       "0             1   T1_D3       0.936445         T   1   3    T3\n",
       "1             2  T10_D3       0.806340         T  10   3    T3\n",
       "2             3  T11_D3       0.974710         T  11   3    T3\n",
       "3             4  T13_D3       0.641606         T  13   3    T3\n",
       "4             5  T14_D3       1.442691         T  14   3    T3\n",
       "..          ...     ...            ...       ...  ..  ..   ...\n",
       "109         110   C5_D3       1.399546         C   5   3    C3\n",
       "110         111   C6_D3       1.260582         C   6   3    C3\n",
       "111         112   C7_D3       1.407365         C   7   3    C3\n",
       "112         113   C8_D3       1.299063         C   8   3    C3\n",
       "113         114   C9_D3       1.578896         C   9   3    C3\n",
       "\n",
       "[114 rows x 7 columns]"
      ]
     },
     "execution_count": 35,
     "metadata": {},
     "output_type": "execute_result"
    }
   ],
   "source": [
    "df = pd.read_csv('alpha_df.csv')\n",
    "df['Treatment'] = df['Sample'].str[0]\n",
    "new = df[\"Sample\"].str.split(\"_\", n = 1, expand = True)\n",
    "\n",
    "#adding new columns to group by\n",
    "df['Bee'] = new[0].str.strip('T').str.strip('C')\n",
    "df['Day'] = new[1].str.strip('D')\n",
    "df['Group'] = df['Treatment'] + df['Day']\n",
    "df"
   ]
  },
  {
   "cell_type": "markdown",
   "id": "a2a0f6ce",
   "metadata": {},
   "source": [
    "T-test for significance between control and treatment groups:"
   ]
  },
  {
   "cell_type": "code",
   "execution_count": 11,
   "id": "b1e39677",
   "metadata": {},
   "outputs": [
    {
     "data": {
      "text/plain": [
       "MannwhitneyuResult(statistic=93.0, pvalue=0.30784678472674787)"
      ]
     },
     "execution_count": 11,
     "metadata": {},
     "output_type": "execute_result"
    }
   ],
   "source": [
    "df_0 = df[df['Day']=='0']\n",
    "cdf_0 = df_0[df_0['Group']=='C0']\n",
    "cdf_0\n",
    "\n",
    "tdf_0 = df_0[df_0['Group']=='T0']\n",
    "tdf_0\n",
    "res0 = mannwhitneyu(x=cdf_0['Shannon_Index'], y=tdf_0['Shannon_Index'], alternative='less')\n",
    "res0"
   ]
  },
  {
   "cell_type": "code",
   "execution_count": 12,
   "id": "9d66ed48",
   "metadata": {},
   "outputs": [],
   "source": [
    "df_3 = df[df['Day']=='3']\n",
    "\n",
    "cdf_3 = df_3[df_3['Group']=='C3']\n",
    "cdf_3\n",
    "\n",
    "tdf_3 = df_3[df_3['Group']=='T3']\n",
    "tdf_3\n",
    "\n",
    "res3 = mannwhitneyu(x=cdf_3['Shannon_Index'], y=tdf_3['Shannon_Index'])"
   ]
  },
  {
   "cell_type": "code",
   "execution_count": 13,
   "id": "3fda3091",
   "metadata": {},
   "outputs": [],
   "source": [
    "df_5 = df[df['Day']=='5']\n",
    "\n",
    "cdf_5 = df_5[df_5['Group']=='C5']\n",
    "cdf_5\n",
    "\n",
    "tdf_5 = df_5[df_5['Group']=='T5']\n",
    "tdf_5\n",
    "\n",
    "res5 = mannwhitneyu(x=cdf_5['Shannon_Index'], y=tdf_5['Shannon_Index'])"
   ]
  },
  {
   "cell_type": "code",
   "execution_count": 14,
   "id": "6bf29f0c",
   "metadata": {},
   "outputs": [],
   "source": [
    "df_7 = df[df['Day']=='7']\n",
    "\n",
    "cdf_7 = df_7[df_7['Group']=='C7']\n",
    "cdf_7\n",
    "\n",
    "tdf_7 = df_7[df_7['Group']=='T7']\n",
    "tdf_7\n",
    "\n",
    "res7 = mannwhitneyu(x=cdf_7['Shannon_Index'], y=tdf_7['Shannon_Index'])\n",
    "#print(res[1])\n",
    "#pval not less than 0.0001.  Is it acceptable?"
   ]
  },
  {
   "cell_type": "code",
   "execution_count": 15,
   "id": "c0d039db",
   "metadata": {},
   "outputs": [],
   "source": [
    "#plot.annotate() to add stars for mann whitney U test significance"
   ]
  },
  {
   "cell_type": "code",
   "execution_count": 34,
   "id": "5337fc61",
   "metadata": {},
   "outputs": [
    {
     "name": "stdout",
     "output_type": "stream",
     "text": [
      "['C0', 'T0', 'C3', 'T3', 'C5', 'T5', 'C7', 'T7']\n"
     ]
    },
    {
     "data": {
      "image/png": "[encoded data removed]",
      "text/plain": [
       "<Figure size 432x288 with 1 Axes>"
      ]
     },
     "metadata": {
      "needs_background": "light"
     },
     "output_type": "display_data"
    },
    {
     "data": {
      "text/plain": [
       "<Figure size 3600x720 with 0 Axes>"
      ]
     },
     "metadata": {},
     "output_type": "display_data"
    },
    {
     "data": {
      "text/plain": [
       "<Figure size 432x288 with 0 Axes>"
      ]
     },
     "metadata": {},
     "output_type": "display_data"
    }
   ],
   "source": [
    "order = ['C0', 'T0', 'C3', 'T3', 'C5', 'T5', 'C7', 'T7']\n",
    "print(order)\n",
    "#order = gene_stacked.groupby('gene').abundance.mean().sort_values(ascending=False).index[:20]\n",
    "fig = plt.figure()\n",
    "sns.boxplot(x='Group', y='Shannon_Index', hue='Treatment', data=df, order=order)\n",
    "plt.title('Alpha Diversity')\n",
    "plt.ylabel('Shannon H Index')\n",
    "plt.annotate('...', (2.5, 1.5), fontsize=25) #trying to add this to the legend\n",
    "plt.annotate('P-value = ' + str(round(res3[1], 7)), (2.25,1.65), fontsize=7)\n",
    "plt.annotate('...', (4.5, 1.75), fontsize=25)\n",
    "plt.annotate('P-value = ' + str(round(res5[1], 7)), (4.2,1.78), fontsize=7)\n",
    "plt.annotate('.', (6.7, 1.6), fontsize=25)\n",
    "plt.annotate('P-value = ' + str(round(res7[1], 7)), (5.7,1.72), fontsize=7)\n",
    "\n",
    "plt.figure(figsize=(50,10))\n",
    "plt.show()\n",
    "\n",
    "plt.savefig('alpha_div.pdf')"
   ]
  }
 ],
 "metadata": {
  "kernelspec": {
   "display_name": "Python 3",
   "language": "python",
   "name": "python3"
  },
  "language_info": {
   "codemirror_mode": {
    "name": "ipython",
    "version": 3
   },
   "file_extension": ".py",
   "mimetype": "text/x-python",
   "name": "python",
   "nbconvert_exporter": "python",
   "pygments_lexer": "ipython3",
   "version": "3.8.8"
  }
 },
 "nbformat": 4,
 "nbformat_minor": 5
}
