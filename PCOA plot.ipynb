{
 "cells": [
  {
   "cell_type": "code",
   "execution_count": 2,
   "id": "148570d0",
   "metadata": {},
   "outputs": [],
   "source": [
    "import pandas as pd\n",
    "import matplotlib.pyplot as plt\n",
    "import seaborn as sns\n"
   ]
  },
  {
   "cell_type": "markdown",
   "id": "dff0b354",
   "metadata": {},
   "source": [
    "Unweighted data processing:"
   ]
  },
  {
   "cell_type": "code",
   "execution_count": 4,
   "id": "71bd39b4",
   "metadata": {},
   "outputs": [
    {
     "data": {
      "text/html": [
       "<div>\n",
       "<style scoped>\n",
       "    .dataframe tbody tr th:only-of-type {\n",
       "        vertical-align: middle;\n",
       "    }\n",
       "\n",
       "    .dataframe tbody tr th {\n",
       "        vertical-align: top;\n",
       "    }\n",
       "\n",
       "    .dataframe thead th {\n",
       "        text-align: right;\n",
       "    }\n",
       "</style>\n",
       "<table border=\"1\" class=\"dataframe\">\n",
       "  <thead>\n",
       "    <tr style=\"text-align: right;\">\n",
       "      <th></th>\n",
       "      <th>Unnamed: 0</th>\n",
       "      <th>V1</th>\n",
       "      <th>V2</th>\n",
       "      <th>group</th>\n",
       "      <th>day</th>\n",
       "    </tr>\n",
       "  </thead>\n",
       "  <tbody>\n",
       "    <tr>\n",
       "      <th>0</th>\n",
       "      <td>HC1.D5</td>\n",
       "      <td>0.048080</td>\n",
       "      <td>-0.077914</td>\n",
       "      <td>control</td>\n",
       "      <td>5.0</td>\n",
       "    </tr>\n",
       "    <tr>\n",
       "      <th>1</th>\n",
       "      <td>HC10.D5</td>\n",
       "      <td>0.130811</td>\n",
       "      <td>0.019613</td>\n",
       "      <td>control</td>\n",
       "      <td>5.0</td>\n",
       "    </tr>\n",
       "    <tr>\n",
       "      <th>2</th>\n",
       "      <td>HC11.D5</td>\n",
       "      <td>0.031349</td>\n",
       "      <td>0.095600</td>\n",
       "      <td>control</td>\n",
       "      <td>5.0</td>\n",
       "    </tr>\n",
       "    <tr>\n",
       "      <th>3</th>\n",
       "      <td>HC12.D3</td>\n",
       "      <td>0.062105</td>\n",
       "      <td>-0.000521</td>\n",
       "      <td>control</td>\n",
       "      <td>3.0</td>\n",
       "    </tr>\n",
       "    <tr>\n",
       "      <th>4</th>\n",
       "      <td>HC12.D5</td>\n",
       "      <td>0.049301</td>\n",
       "      <td>0.044508</td>\n",
       "      <td>control</td>\n",
       "      <td>5.0</td>\n",
       "    </tr>\n",
       "    <tr>\n",
       "      <th>...</th>\n",
       "      <td>...</td>\n",
       "      <td>...</td>\n",
       "      <td>...</td>\n",
       "      <td>...</td>\n",
       "      <td>...</td>\n",
       "    </tr>\n",
       "    <tr>\n",
       "      <th>120</th>\n",
       "      <td>HT10.D3</td>\n",
       "      <td>-0.186508</td>\n",
       "      <td>0.130582</td>\n",
       "      <td>treatment</td>\n",
       "      <td>3.0</td>\n",
       "    </tr>\n",
       "    <tr>\n",
       "      <th>121</th>\n",
       "      <td>HT13.D3</td>\n",
       "      <td>-0.366026</td>\n",
       "      <td>0.154712</td>\n",
       "      <td>treatment</td>\n",
       "      <td>3.0</td>\n",
       "    </tr>\n",
       "    <tr>\n",
       "      <th>122</th>\n",
       "      <td>HT5.D5</td>\n",
       "      <td>-0.380581</td>\n",
       "      <td>0.057195</td>\n",
       "      <td>treatment</td>\n",
       "      <td>5.0</td>\n",
       "    </tr>\n",
       "    <tr>\n",
       "      <th>123</th>\n",
       "      <td>HT9.D7</td>\n",
       "      <td>-0.189998</td>\n",
       "      <td>0.196489</td>\n",
       "      <td>treatment</td>\n",
       "      <td>7.0</td>\n",
       "    </tr>\n",
       "    <tr>\n",
       "      <th>124</th>\n",
       "      <td>HT14.D3</td>\n",
       "      <td>-0.087696</td>\n",
       "      <td>0.196627</td>\n",
       "      <td>treatment</td>\n",
       "      <td>3.0</td>\n",
       "    </tr>\n",
       "  </tbody>\n",
       "</table>\n",
       "<p>125 rows × 5 columns</p>\n",
       "</div>"
      ],
      "text/plain": [
       "    Unnamed: 0        V1        V2      group  day\n",
       "0       HC1.D5  0.048080 -0.077914    control  5.0\n",
       "1      HC10.D5  0.130811  0.019613    control  5.0\n",
       "2      HC11.D5  0.031349  0.095600    control  5.0\n",
       "3      HC12.D3  0.062105 -0.000521    control  3.0\n",
       "4      HC12.D5  0.049301  0.044508    control  5.0\n",
       "..         ...       ...       ...        ...  ...\n",
       "120    HT10.D3 -0.186508  0.130582  treatment  3.0\n",
       "121    HT13.D3 -0.366026  0.154712  treatment  3.0\n",
       "122     HT5.D5 -0.380581  0.057195  treatment  5.0\n",
       "123     HT9.D7 -0.189998  0.196489  treatment  7.0\n",
       "124    HT14.D3 -0.087696  0.196627  treatment  3.0\n",
       "\n",
       "[125 rows x 5 columns]"
      ]
     },
     "execution_count": 4,
     "metadata": {},
     "output_type": "execute_result"
    }
   ],
   "source": [
    "\n",
    "unweight_df = pd.read_csv('unweight_pcoa.csv')\n",
    "unweight_df['V2'] = unweight_df['V2'].apply(lambda x: x * -1)\n",
    "unweight_df"
   ]
  },
  {
   "cell_type": "code",
   "execution_count": 5,
   "id": "fe594949",
   "metadata": {},
   "outputs": [],
   "source": [
    "var_unweight_df = pd.read_csv('unweight_variances.csv')"
   ]
  },
  {
   "cell_type": "code",
   "execution_count": 6,
   "id": "638e3473",
   "metadata": {},
   "outputs": [
    {
     "data": {
      "image/png": "[encoded data removed]",
      "text/plain": [
       "<Figure size 432x288 with 1 Axes>"
      ]
     },
     "metadata": {
      "needs_background": "light"
     },
     "output_type": "display_data"
    }
   ],
   "source": [
    "plot = sns.scatterplot(data=unweight_df, x=\"V1\", y=\"V2\", hue=\"group\", style=\"day\")\n",
    "plot.axhline(0)\n",
    "plot.axvline(0)\n",
    "plt.xlabel('PC1- Percent Variance Explained ' + str(round(var_unweight_df['X1'].sum(), 2)) + ' percent')\n",
    "plt.ylabel('PC2- Percent Variance Explained ' + str(round(var_unweight_df['X2'].sum(), 2)) + ' percent')\n",
    "plt.legend(bbox_to_anchor=(1.05, 1), loc='upper left', borderaxespad=0)\n",
    "plt.title('PCOA - Unweighted Unifrac')\n",
    "plt.show()\n"
   ]
  },
  {
   "cell_type": "markdown",
   "id": "a05cfd95",
   "metadata": {},
   "source": [
    "Weighted data processing:"
   ]
  },
  {
   "cell_type": "code",
   "execution_count": 7,
   "id": "a353dbd1",
   "metadata": {},
   "outputs": [
    {
     "data": {
      "text/html": [
       "<div>\n",
       "<style scoped>\n",
       "    .dataframe tbody tr th:only-of-type {\n",
       "        vertical-align: middle;\n",
       "    }\n",
       "\n",
       "    .dataframe tbody tr th {\n",
       "        vertical-align: top;\n",
       "    }\n",
       "\n",
       "    .dataframe thead th {\n",
       "        text-align: right;\n",
       "    }\n",
       "</style>\n",
       "<table border=\"1\" class=\"dataframe\">\n",
       "  <thead>\n",
       "    <tr style=\"text-align: right;\">\n",
       "      <th></th>\n",
       "      <th>Unnamed: 0</th>\n",
       "      <th>V1</th>\n",
       "      <th>V2</th>\n",
       "      <th>group</th>\n",
       "      <th>day</th>\n",
       "    </tr>\n",
       "  </thead>\n",
       "  <tbody>\n",
       "    <tr>\n",
       "      <th>0</th>\n",
       "      <td>HC1.D5</td>\n",
       "      <td>0.081431</td>\n",
       "      <td>-0.036121</td>\n",
       "      <td>control</td>\n",
       "      <td>5.0</td>\n",
       "    </tr>\n",
       "    <tr>\n",
       "      <th>1</th>\n",
       "      <td>HC10.D5</td>\n",
       "      <td>0.089060</td>\n",
       "      <td>-0.065719</td>\n",
       "      <td>control</td>\n",
       "      <td>5.0</td>\n",
       "    </tr>\n",
       "    <tr>\n",
       "      <th>2</th>\n",
       "      <td>HC11.D5</td>\n",
       "      <td>0.132187</td>\n",
       "      <td>-0.012832</td>\n",
       "      <td>control</td>\n",
       "      <td>5.0</td>\n",
       "    </tr>\n",
       "    <tr>\n",
       "      <th>3</th>\n",
       "      <td>HC12.D3</td>\n",
       "      <td>-0.182337</td>\n",
       "      <td>-0.123827</td>\n",
       "      <td>control</td>\n",
       "      <td>3.0</td>\n",
       "    </tr>\n",
       "    <tr>\n",
       "      <th>4</th>\n",
       "      <td>HC12.D5</td>\n",
       "      <td>0.062551</td>\n",
       "      <td>-0.096106</td>\n",
       "      <td>control</td>\n",
       "      <td>5.0</td>\n",
       "    </tr>\n",
       "    <tr>\n",
       "      <th>...</th>\n",
       "      <td>...</td>\n",
       "      <td>...</td>\n",
       "      <td>...</td>\n",
       "      <td>...</td>\n",
       "      <td>...</td>\n",
       "    </tr>\n",
       "    <tr>\n",
       "      <th>120</th>\n",
       "      <td>HT10.D3</td>\n",
       "      <td>-0.419240</td>\n",
       "      <td>0.134958</td>\n",
       "      <td>treatment</td>\n",
       "      <td>3.0</td>\n",
       "    </tr>\n",
       "    <tr>\n",
       "      <th>121</th>\n",
       "      <td>HT13.D3</td>\n",
       "      <td>-0.255155</td>\n",
       "      <td>0.241035</td>\n",
       "      <td>treatment</td>\n",
       "      <td>3.0</td>\n",
       "    </tr>\n",
       "    <tr>\n",
       "      <th>122</th>\n",
       "      <td>HT5.D5</td>\n",
       "      <td>-0.171459</td>\n",
       "      <td>0.079747</td>\n",
       "      <td>treatment</td>\n",
       "      <td>5.0</td>\n",
       "    </tr>\n",
       "    <tr>\n",
       "      <th>123</th>\n",
       "      <td>HT9.D7</td>\n",
       "      <td>0.067016</td>\n",
       "      <td>0.174805</td>\n",
       "      <td>treatment</td>\n",
       "      <td>7.0</td>\n",
       "    </tr>\n",
       "    <tr>\n",
       "      <th>124</th>\n",
       "      <td>HT14.D3</td>\n",
       "      <td>0.165884</td>\n",
       "      <td>0.096000</td>\n",
       "      <td>treatment</td>\n",
       "      <td>3.0</td>\n",
       "    </tr>\n",
       "  </tbody>\n",
       "</table>\n",
       "<p>125 rows × 5 columns</p>\n",
       "</div>"
      ],
      "text/plain": [
       "    Unnamed: 0        V1        V2      group  day\n",
       "0       HC1.D5  0.081431 -0.036121    control  5.0\n",
       "1      HC10.D5  0.089060 -0.065719    control  5.0\n",
       "2      HC11.D5  0.132187 -0.012832    control  5.0\n",
       "3      HC12.D3 -0.182337 -0.123827    control  3.0\n",
       "4      HC12.D5  0.062551 -0.096106    control  5.0\n",
       "..         ...       ...       ...        ...  ...\n",
       "120    HT10.D3 -0.419240  0.134958  treatment  3.0\n",
       "121    HT13.D3 -0.255155  0.241035  treatment  3.0\n",
       "122     HT5.D5 -0.171459  0.079747  treatment  5.0\n",
       "123     HT9.D7  0.067016  0.174805  treatment  7.0\n",
       "124    HT14.D3  0.165884  0.096000  treatment  3.0\n",
       "\n",
       "[125 rows x 5 columns]"
      ]
     },
     "execution_count": 7,
     "metadata": {},
     "output_type": "execute_result"
    }
   ],
   "source": [
    "weight_df = pd.read_csv('weight_pcoa.csv')\n",
    "weight_df['V1'] = weight_df['V1'].apply(lambda x: x * -1)\n",
    "weight_df"
   ]
  },
  {
   "cell_type": "code",
   "execution_count": 8,
   "id": "1070093c",
   "metadata": {},
   "outputs": [],
   "source": [
    "var_weight_df = pd.read_csv('weight_variances.csv')"
   ]
  },
  {
   "cell_type": "code",
   "execution_count": 9,
   "id": "f5532881",
   "metadata": {},
   "outputs": [
    {
     "data": {
      "image/png": "[encoded data removed]",
      "text/plain": [
       "<Figure size 432x288 with 1 Axes>"
      ]
     },
     "metadata": {
      "needs_background": "light"
     },
     "output_type": "display_data"
    }
   ],
   "source": [
    "plot = sns.scatterplot(data=weight_df, x=\"V1\", y=\"V2\", hue=\"group\", style=\"day\")\n",
    "plot.axhline(0)\n",
    "plot.axvline(0)\n",
    "plt.xlabel('PC1- Percent Variance Explained ' + str(round(var_weight_df['X1'].sum(), 2)) + ' percent')\n",
    "plt.ylabel('PC2- Percent Variance Explained ' + str(round(var_weight_df['X2'].sum(), 2)) + ' percent')\n",
    "plt.title('PCOA - Weighted Unifrac')\n",
    "                                                \n",
    "plt.legend(bbox_to_anchor=(1.05, 1), loc='upper left', borderaxespad=0)\n",
    "plt.show()"
   ]
  }
 ],
 "metadata": {
  "kernelspec": {
   "display_name": "Python 3",
   "language": "python",
   "name": "python3"
  },
  "language_info": {
   "codemirror_mode": {
    "name": "ipython",
    "version": 3
   },
   "file_extension": ".py",
   "mimetype": "text/x-python",
   "name": "python",
   "nbconvert_exporter": "python",
   "pygments_lexer": "ipython3",
   "version": "3.8.8"
  }
 },
 "nbformat": 4,
 "nbformat_minor": 5
}
